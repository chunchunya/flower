{
 "cells": [
  {
   "cell_type": "markdown",
   "metadata": {},
   "source": [
    "# 0. 背景"
   ]
  },
  {
   "cell_type": "markdown",
   "metadata": {},
   "source": [
    "本模型为根据将来某日的温度、湿度，和上次浇水的日期，预测改日是否可以进行浇水。适合于像我这种初期养花人，要么忘记浇水、要么就浇水太多，需要一套模型来继续预测。\n",
    "\n",
    "例如，上次浇水是在一个星期之前了，那今天就应该浇水；如果天气太热、或湿度太干燥，那就浇水间隔短一点。后续如有可能的话，还考虑引入是否下雨了，例如在雷雨天气，也需要减少浇水频率。\n",
    "\n",
    "是否需要浇水，这显然是个二分类问题。"
   ]
  },
  {
   "cell_type": "markdown",
   "metadata": {},
   "source": [
    "# 1.训练模型"
   ]
  },
  {
   "cell_type": "markdown",
   "metadata": {},
   "source": [
    "### 1.1 包含头文件"
   ]
  },
  {
   "cell_type": "code",
   "execution_count": 92,
   "metadata": {},
   "outputs": [],
   "source": [
    "import pandas as pd\n",
    "import time \n",
    "import numpy as np\n",
    "import tensorflow as tf\n",
    "from keras.models import Sequential\n",
    "from keras.layers import Dense"
   ]
  },
  {
   "cell_type": "markdown",
   "metadata": {},
   "source": [
    "### 1.2 读取历史数据"
   ]
  },
  {
   "cell_type": "markdown",
   "metadata": {},
   "source": [
    "该文件记录了【浇水】的日期，包含当天的温度和湿度"
   ]
  },
  {
   "cell_type": "code",
   "execution_count": 93,
   "metadata": {},
   "outputs": [
    {
     "name": "stdout",
     "output_type": "stream",
     "text": [
      "          date  temperature  humidity\n",
      "0     2019/1/1           20        50\n",
      "1     2019/1/4           20        50\n",
      "2     2019/1/7           20        50\n",
      "3    2019/1/10           20        50\n",
      "4    2019/1/13           20        50\n",
      "..         ...          ...       ...\n",
      "123  2020/6/19           30        60\n",
      "124  2020/6/22           30        60\n",
      "125  2020/6/25           30        60\n",
      "126  2020/6/28           30        60\n",
      "127   2020/7/1           30        60\n",
      "\n",
      "[128 rows x 3 columns]\n"
     ]
    }
   ],
   "source": [
    "history = pd.read_csv(\"./flower.csv\", usecols=['date', 'temperature','humidity'])\n",
    "print(history)"
   ]
  },
  {
   "cell_type": "markdown",
   "metadata": {},
   "source": [
    "### 1.3 预处理数据"
   ]
  },
  {
   "cell_type": "markdown",
   "metadata": {},
   "source": [
    "日期，是不需要作为模型的输入参数，而日期间的间隔是需要的，所下面进行了预处理（可以先看下面的输出结果进行预处理后的结果）\n",
    "处理后，data将是二维列表，元素是一个列表[天数间隔, 温度，湿度]， label是二维列表，元素是[是否需要进行浇水（1是0否）]\n",
    "\n",
    "另外，flower.csv 记录了浇水了的日期，在此也生成未浇水的日期，才不会造成label里数值都是1，无法进行而分类。"
   ]
  },
  {
   "cell_type": "code",
   "execution_count": 94,
   "metadata": {},
   "outputs": [],
   "source": [
    "# 计算两个日期间相差了多少天\n",
    "def dateDiff(dateStr1, dateStr2):\n",
    "    date1 = int(time.mktime(time.strptime(dateStr1, \"%Y/%m/%d\")))\n",
    "    date2 = int(time.mktime(time.strptime(dateStr2, \"%Y/%m/%d\")))\n",
    "    return int((date2 - date1)/3600/24)\n",
    "\n",
    "# 增加日期\n",
    "def dateAdd(dateStr, days):\n",
    "    date = int(time.mktime(time.strptime(dateStr, \"%Y/%m/%d\")))\n",
    "    date += days * 24 * 3600\n",
    "    timeArray = time.localtime(date)\n",
    "    return time.strftime(\"%Y/%m/%d\", timeArray)\n",
    "\n",
    "# 构建完整数据，包含未浇水的日期\n",
    "dateTimeList = []\n",
    "data = []\n",
    "label = []\n",
    "\n",
    "for index in history.index:\n",
    "    item = list(history.loc[index])\n",
    "    # print(item) #type(data.loc[indexs])为series\n",
    "    \n",
    "    if index == 0:\n",
    "        # 第一天没有距离上次的天数，为0\n",
    "        elapsedDays = 0\n",
    "        date = item[0]\n",
    "        temperature = item[1]\n",
    "        humidity = item[2]\n",
    "        dateTimeList.append(date)\n",
    "        data.append([float(elapsedDays), float(temperature), float(humidity)])\n",
    "        label.append([1.])\n",
    "    else:\n",
    "        # 距离上次浇花的天数\n",
    "        lastDate = list(history.loc[index - 1])\n",
    "        date = item[0]\n",
    "        elapsedDays = dateDiff(lastDate[0], date)\n",
    "        temperature = item[1]\n",
    "        humidity = item[2]\n",
    "\n",
    "        # 生成(lastDate, item) 之间的数据(采用等差自动生成)\n",
    "        if elapsedDays > 1:\n",
    "            temperatureList = np.linspace(lastDate[1], temperature, elapsedDays+1, dtype=\"float\")\n",
    "            humidityList = np.linspace(lastDate[2], humidity, elapsedDays+1, dtype=\"float\")\n",
    "            for k in range(1, elapsedDays):\n",
    "                dateTimeList.append(dateAdd(lastDate[0], k))\n",
    "                data.append([float(k), float(temperatureList[k]), float(humidityList[k])])\n",
    "                label.append([0.])\n",
    "        \n",
    "        dateTimeList.append(date)\n",
    "        data.append([float(elapsedDays), float(temperature), float(humidity)])\n",
    "        label.append([1.])"
   ]
  },
  {
   "cell_type": "markdown",
   "metadata": {},
   "source": [
    "补齐了每一天的数据，下图中最后一列为是否浇水："
   ]
  },
  {
   "cell_type": "code",
   "execution_count": 95,
   "metadata": {},
   "outputs": [
    {
     "name": "stdout",
     "output_type": "stream",
     "text": [
      "548 548\n",
      "[[ 0. 20. 50.  1.]\n",
      " [ 1. 20. 50.  0.]\n",
      " [ 2. 20. 50.  0.]\n",
      " ...\n",
      " [ 1. 30. 60.  0.]\n",
      " [ 2. 30. 60.  0.]\n",
      " [ 3. 30. 60.  1.]]\n"
     ]
    }
   ],
   "source": [
    "print(len(data), len(label))\n",
    "print(np.concatenate((data,label),axis=1))"
   ]
  },
  {
   "cell_type": "markdown",
   "metadata": {},
   "source": [
    "### 1.4 生成训练和测试数据"
   ]
  },
  {
   "cell_type": "code",
   "execution_count": 96,
   "metadata": {},
   "outputs": [],
   "source": [
    "# 前 trainCount 条数据为训练数据，后续的为测试数据 \n",
    "trainCount = 485\n",
    "\n",
    "# 训练数据的日期\n",
    "trainX = tf.reshape(np.array(data)[:trainCount, :], shape=[-1, 3])\n",
    "trainY = tf.reshape(label[:trainCount], shape=[-1])\n",
    "trainDateTimeList = dateTimeList[:trainCount]\n",
    "\n",
    "# 测试数据的日期\n",
    "testX = tf.reshape(np.array(data)[trainCount:, :], shape=[-1, 3])\n",
    "testY = tf.reshape(label[trainCount:], shape=[-1])\n",
    "testDateTimeList = dateTimeList[trainCount:]"
   ]
  },
  {
   "cell_type": "markdown",
   "metadata": {},
   "source": [
    "### 1.5 构架模型"
   ]
  },
  {
   "cell_type": "code",
   "execution_count": 97,
   "metadata": {},
   "outputs": [
    {
     "name": "stdout",
     "output_type": "stream",
     "text": [
      "Training........\n",
      "COST: 9.554024\n",
      "COST: 0.5286655\n",
      "COST: 0.52853525\n",
      "COST: 0.5284359\n",
      "COST: 0.52835834\n",
      "COST: 0.5282964\n",
      "COST: 0.5282465\n",
      "COST: 0.52820534\n",
      "COST: 0.5281713\n",
      "COST: 0.5281424\n",
      "COST: 0.5281179\n",
      "Testing ------------\n",
      "40/40 [==============================] - 0s 6ms/step\n",
      "test cost: 0.01668531894683838\n",
      "Weights= [[ 0.6021092   0.18700011 -0.20357186 -0.52960354]\n",
      " [ 0.07448053 -0.16953301  0.17461216 -0.12051457]\n",
      " [-0.26195943  0.23027727 -0.26747638  0.04654618]] \n",
      "biases= [ 0.         -0.01334758  0.         -0.00044463]\n"
     ]
    }
   ],
   "source": [
    "def build_model():\n",
    "    model= Sequential()\n",
    "    model.add(Dense(4, activation='relu', input_dim=3))\n",
    "    # Dense(4) is a fully-connected layer with 4 hidden units.\n",
    "    model.add(Dense(1, activation='sigmoid'))\n",
    "    model.compile(loss='binary_crossentropy', optimizer='sgd')\n",
    "    return model\n",
    "\n",
    "def train(model, x, y):\n",
    "    print('Training........')\n",
    "    for step in range(1001):\n",
    "        cost = model.train_on_batch(x, y)\n",
    "        if step % 100 == 0:\n",
    "            print('COST:', cost)\n",
    "            \n",
    "def test(model, x, y):\n",
    "    print('Testing ------------')\n",
    "    cost = model.evaluate(x, y, steps=40)\n",
    "    print('test cost:', cost)\n",
    "    W, b = model.layers[0].get_weights()\n",
    "    print('Weights=', W, '\\nbiases=', b)\n",
    "      \n",
    "\n",
    "model = build_model()\n",
    "train(model, trainX, trainY)\n",
    "test(model, testX, testY)"
   ]
  },
  {
   "cell_type": "markdown",
   "metadata": {},
   "source": [
    "### 1.6 验证模型"
   ]
  },
  {
   "cell_type": "code",
   "execution_count": 111,
   "metadata": {},
   "outputs": [
    {
     "name": "stdout",
     "output_type": "stream",
     "text": [
      "[['2020/04/30' '5.0' '20.0' '50.0' '0']\n",
      " ['2020/5/1' '6.0' '20.0' '50.0' '0']\n",
      " ['2020/05/02' '1.0' '20.0' '50.0' '0']\n",
      " ['2020/05/03' '2.0' '20.0' '50.0' '0']\n",
      " ['2020/05/04' '3.0' '20.0' '50.0' '0']\n",
      " ['2020/05/05' '4.0' '20.0' '50.0' '0']\n",
      " ['2020/05/06' '5.0' '20.0' '50.0' '0']\n",
      " ['2020/5/7' '6.0' '20.0' '50.0' '0']\n",
      " ['2020/05/08' '1.0' '20.0' '50.0' '0']\n",
      " ['2020/05/09' '2.0' '20.0' '50.0' '0']\n",
      " ['2020/05/10' '3.0' '20.0' '50.0' '0']\n",
      " ['2020/05/11' '4.0' '20.0' '50.0' '0']\n",
      " ['2020/05/12' '5.0' '20.0' '50.0' '0']\n",
      " ['2020/5/13' '6.0' '20.0' '50.0' '0']\n",
      " ['2020/05/14' '1.0' '20.0' '50.0' '0']\n",
      " ['2020/05/15' '2.0' '20.0' '50.0' '0']\n",
      " ['2020/05/16' '3.0' '20.0' '50.0' '0']\n",
      " ['2020/05/17' '4.0' '20.0' '50.0' '0']\n",
      " ['2020/05/18' '5.0' '20.0' '50.0' '0']\n",
      " ['2020/5/19' '6.0' '20.0' '50.0' '0']\n",
      " ['2020/05/20' '1.0' '25.0' '50.0' '0']\n",
      " ['2020/5/21' '2.0' '30.0' '50.0' '0']\n",
      " ['2020/05/22' '1.0' '30.0' '50.0' '0']\n",
      " ['2020/5/23' '2.0' '30.0' '50.0' '0']\n",
      " ['2020/05/24' '1.0' '30.0' '50.0' '0']\n",
      " ['2020/5/25' '2.0' '30.0' '50.0' '0']\n",
      " ['2020/05/26' '1.0' '30.0' '50.0' '0']\n",
      " ['2020/5/27' '2.0' '30.0' '50.0' '0']\n",
      " ['2020/05/28' '1.0' '30.0' '50.0' '0']\n",
      " ['2020/5/29' '2.0' '30.0' '50.0' '0']\n",
      " ['2020/05/30' '1.0' '30.0' '50.0' '0']\n",
      " ['2020/5/31' '2.0' '30.0' '50.0' '0']\n",
      " ['2020/06/01' '1.0' '30.0' '50.0' '0']\n",
      " ['2020/6/2' '2.0' '30.0' '50.0' '0']\n",
      " ['2020/06/03' '1.0' '30.0' '50.0' '0']\n",
      " ['2020/6/4' '2.0' '30.0' '50.0' '0']\n",
      " ['2020/06/05' '1.0' '30.0' '53.333333333333336' '0']\n",
      " ['2020/06/06' '2.0' '30.0' '56.666666666666664' '0']\n",
      " ['2020/6/7' '3.0' '30.0' '60.0' '0']\n",
      " ['2020/06/08' '1.0' '30.0' '60.0' '0']\n",
      " ['2020/06/09' '2.0' '30.0' '60.0' '0']\n",
      " ['2020/6/10' '3.0' '30.0' '60.0' '0']\n",
      " ['2020/06/11' '1.0' '30.0' '60.0' '0']\n",
      " ['2020/06/12' '2.0' '30.0' '60.0' '0']\n",
      " ['2020/6/13' '3.0' '30.0' '60.0' '0']\n",
      " ['2020/06/14' '1.0' '30.0' '60.0' '0']\n",
      " ['2020/06/15' '2.0' '30.0' '60.0' '0']\n",
      " ['2020/6/16' '3.0' '30.0' '60.0' '0']\n",
      " ['2020/06/17' '1.0' '30.0' '60.0' '0']\n",
      " ['2020/06/18' '2.0' '30.0' '60.0' '0']\n",
      " ['2020/6/19' '3.0' '30.0' '60.0' '0']\n",
      " ['2020/06/20' '1.0' '30.0' '60.0' '0']\n",
      " ['2020/06/21' '2.0' '30.0' '60.0' '0']\n",
      " ['2020/6/22' '3.0' '30.0' '60.0' '0']\n",
      " ['2020/06/23' '1.0' '30.0' '60.0' '0']\n",
      " ['2020/06/24' '2.0' '30.0' '60.0' '0']\n",
      " ['2020/6/25' '3.0' '30.0' '60.0' '0']\n",
      " ['2020/06/26' '1.0' '30.0' '60.0' '0']\n",
      " ['2020/06/27' '2.0' '30.0' '60.0' '0']\n",
      " ['2020/6/28' '3.0' '30.0' '60.0' '0']\n",
      " ['2020/06/29' '1.0' '30.0' '60.0' '0']\n",
      " ['2020/06/30' '2.0' '30.0' '60.0' '0']\n",
      " ['2020/7/1' '3.0' '30.0' '60.0' '0']]\n"
     ]
    }
   ],
   "source": [
    "y_pred = model.predict(testX, steps=1)\n",
    "\n",
    "# 因为激活函数 sigmoid 的数值机制在是0.5，使用下列方式进行调整\n",
    "y_pred = (y_pred*2).astype('int')\n",
    "\n",
    "with tf.Session() as sess:\n",
    "    datetimes = np.array(testDateTimeList).reshape((len(testDateTimeList), 1))\n",
    "    print(np.concatenate((datetimes, testX.eval(), y_pred), axis=1))"
   ]
  },
  {
   "cell_type": "markdown",
   "metadata": {},
   "source": [
    "从上图看出，每一行的最后一列都为0明显不准确啊"
   ]
  }
 ],
 "metadata": {
  "kernelspec": {
   "display_name": "Python 3",
   "language": "python",
   "name": "python3"
  },
  "language_info": {
   "codemirror_mode": {
    "name": "ipython",
    "version": 3
   },
   "file_extension": ".py",
   "mimetype": "text/x-python",
   "name": "python",
   "nbconvert_exporter": "python",
   "pygments_lexer": "ipython3",
   "version": "3.6.2"
  }
 },
 "nbformat": 4,
 "nbformat_minor": 4
}
